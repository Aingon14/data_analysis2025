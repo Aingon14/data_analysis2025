{
  "nbformat": 4,
  "nbformat_minor": 0,
  "metadata": {
    "colab": {
      "provenance": [],
      "authorship_tag": "ABX9TyPXx9FjMqbUr39xAXOK7aiz",
      "include_colab_link": true
    },
    "kernelspec": {
      "name": "python3",
      "display_name": "Python 3"
    },
    "language_info": {
      "name": "python"
    }
  },
  "cells": [
    {
      "cell_type": "markdown",
      "metadata": {
        "id": "view-in-github",
        "colab_type": "text"
      },
      "source": [
        "<a href=\"https://colab.research.google.com/github/Aingon14/data_analysis2025/blob/main/4test_salepro_analysis.ipynb\" target=\"_parent\"><img src=\"https://colab.research.google.com/assets/colab-badge.svg\" alt=\"Open In Colab\"/></a>"
      ]
    },
    {
      "cell_type": "code",
      "execution_count": 2,
      "metadata": {
        "id": "gziHQxE8XWZz"
      },
      "outputs": [],
      "source": [
        "import pandas as pd\n",
        "import os\n",
        "import numpy as np\n",
        "import seaborn as sns\n",
        "import warnings\n",
        "\n",
        "from matplotlib import pylab as plt  # PyLab is a procedural interface to the Matplotlib object-oriented plotting library.\n",
        "\n",
        "from statsmodels.graphics.gofplots import qqplot  # Can take arguments specifying the parameters for dist or fit them automatically.\n",
        "\n",
        "from IPython.core.interactiveshell import InteractiveShell  # An enhanced, interactive shell for Python."
      ]
    },
    {
      "cell_type": "code",
      "source": [],
      "metadata": {
        "id": "4zlHf-8CZqPt"
      },
      "execution_count": null,
      "outputs": []
    },
    {
      "cell_type": "code",
      "source": [],
      "metadata": {
        "id": "guVBnFS1ZqMs"
      },
      "execution_count": null,
      "outputs": []
    }
  ]
}